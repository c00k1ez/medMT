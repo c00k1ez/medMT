{
 "cells": [
  {
   "cell_type": "markdown",
   "id": "83a5e465",
   "metadata": {},
   "source": [
    "## Data preparation"
   ]
  },
  {
   "cell_type": "code",
   "execution_count": 87,
   "id": "7d43e968",
   "metadata": {},
   "outputs": [],
   "source": [
    "import os\n",
    "import jsonlines\n",
    "import json\n",
    "import pandas as pd\n",
    "\n",
    "from collections import defaultdict"
   ]
  },
  {
   "cell_type": "code",
   "execution_count": 88,
   "id": "0298acde",
   "metadata": {},
   "outputs": [],
   "source": [
    "def lang_data_parse(path):\n",
    "    \n",
    "    with open(path, 'r') as f:\n",
    "        lang = f.readlines()\n",
    "        \n",
    "    lang = [x.split('\\t') for x in lang]\n",
    "    \n",
    "    unique_doc_ids = defaultdict(dict)\n",
    "    \n",
    "    for el in lang:\n",
    "        doc_id = el[0]\n",
    "        unique_doc_ids[doc_id][el[1]] = el[2].strip('\\n')\n",
    "        \n",
    "    return unique_doc_ids"
   ]
  },
  {
   "cell_type": "code",
   "execution_count": 89,
   "id": "7e14cad4",
   "metadata": {},
   "outputs": [],
   "source": [
    "def data_add_test(path_en, path_ru, path_alignment, path_mapping):\n",
    "    \n",
    "    unique_doc_ids_en = lang_data_parse(path_en)\n",
    "    unique_doc_ids_ru = lang_data_parse(path_ru)\n",
    "    \n",
    "    with open(path_mapping, 'r') as f:\n",
    "        mapping = f.readlines()\n",
    "        \n",
    "    mapping = [x.strip('\\n').split('\\t') for x in mapping]\n",
    "    mapping_dict = {}\n",
    "    \n",
    "    for el in mapping:\n",
    "        mapping_dict[el[0]] = el[1]\n",
    "        \n",
    "    with open(path_alignment, 'r') as f:\n",
    "        align = f.readlines()\n",
    "        \n",
    "    align = [x.strip('\\n').split('\\t') for x in align]\n",
    "    align = [[mapping_dict[x[1]], x[2], x[3]] for x in align]\n",
    "\n",
    "    return align, unique_doc_ids_en, unique_doc_ids_ru"
   ]
  },
  {
   "cell_type": "markdown",
   "id": "0120ea5f",
   "metadata": {},
   "source": [
    "Adding wmt20 train data:"
   ]
  },
  {
   "cell_type": "code",
   "execution_count": 2,
   "id": "874db606",
   "metadata": {},
   "outputs": [],
   "source": [
    "path = 'ru-en_20/ru-en-release'"
   ]
  },
  {
   "cell_type": "code",
   "execution_count": 3,
   "id": "ebe31c0c",
   "metadata": {},
   "outputs": [],
   "source": [
    "files_en = []\n",
    "files_ru = []\n",
    "\n",
    "for el in os.listdir(path):\n",
    "    if el[-6] == 'e':\n",
    "        files_en.append(el)\n",
    "    else:\n",
    "        files_ru.append(el)"
   ]
  },
  {
   "cell_type": "code",
   "execution_count": 4,
   "id": "80ff95c7",
   "metadata": {},
   "outputs": [],
   "source": [
    "files_en = sorted(files_en)\n",
    "files_ru = sorted(files_ru)"
   ]
  },
  {
   "cell_type": "code",
   "execution_count": 78,
   "id": "af6a4bf2",
   "metadata": {},
   "outputs": [],
   "source": [
    "results = []\n",
    "\n",
    "for i, j in zip(files_en, files_ru):\n",
    "    with open(path + '/' + i, 'r') as f:\n",
    "        en = f.read()\n",
    "    with open(path + '/' + j, 'r') as f:\n",
    "        ru = f.read()\n",
    "    results.append({\"translation\": {\"ru\": ru,\n",
    "                                    \"en\": en\n",
    "                                    }})"
   ]
  },
  {
   "cell_type": "markdown",
   "id": "6b1e592e",
   "metadata": {},
   "source": [
    "Adding contest's train data:"
   ]
  },
  {
   "cell_type": "code",
   "execution_count": 6,
   "id": "6f46cd19",
   "metadata": {},
   "outputs": [],
   "source": [
    "with open('train_test/train.jsonl', 'r') as f:\n",
    "    train_data = f.readlines()"
   ]
  },
  {
   "cell_type": "code",
   "execution_count": 7,
   "id": "446b19d9",
   "metadata": {},
   "outputs": [],
   "source": [
    "for el in train_data:\n",
    "    results.append(el.strip('\\n'))"
   ]
  },
  {
   "cell_type": "markdown",
   "id": "298c1290",
   "metadata": {},
   "source": [
    "Adding wmt20 test data:"
   ]
  },
  {
   "cell_type": "code",
   "execution_count": 90,
   "id": "6c5bb93a",
   "metadata": {},
   "outputs": [],
   "source": [
    "align_20, unique_doc_ids_20, unique_doc_ids_ru_20 = data_add_test(\n",
    "                            'wmt20test/medline_ru2en_en.txt',\n",
    "                            'wmt20test/medline_ru2en_ru.txt',\n",
    "                            'wmt20test/ru-en_align_validation.tsv',\n",
    "                            'wmt20test/ruen_mapping.txt'\n",
    "                           )"
   ]
  },
  {
   "cell_type": "code",
   "execution_count": 91,
   "id": "be58c0d7",
   "metadata": {},
   "outputs": [],
   "source": [
    "res_20 = []\n",
    "\n",
    "for el in align_20:\n",
    "    if 'omitted' not in el:\n",
    "        try:\n",
    "            doc_id = el[0]\n",
    "            sent_en = el[2]\n",
    "            sent_ru = el[1]\n",
    "            en = unique_doc_ids_20[doc_id][sent_en]\n",
    "            ru = unique_doc_ids_ru_20[doc_id][sent_ru]\n",
    "            res_20.append({\"translation\": {\"ru\": ru, \"en\": en}})\n",
    "        except KeyError:\n",
    "            pass"
   ]
  },
  {
   "cell_type": "code",
   "execution_count": 81,
   "id": "ad39b6c4",
   "metadata": {},
   "outputs": [],
   "source": [
    "for el in res_20:\n",
    "    results.append(el)"
   ]
  },
  {
   "cell_type": "markdown",
   "id": "5b0286c9",
   "metadata": {},
   "source": [
    "Adding wmt21 test data:"
   ]
  },
  {
   "cell_type": "code",
   "execution_count": 82,
   "id": "220775a3",
   "metadata": {},
   "outputs": [],
   "source": [
    "align_21, unique_doc_ids_21, unique_doc_ids_ru_21 = data_add_test(\n",
    "                            'wmt21test/medline_ru2en_en.txt',\n",
    "                            'wmt21test/medline_ru2en_ru.txt',\n",
    "                            'wmt21test/ru-en_align_validation.tsv',\n",
    "                            'wmt21test/ruen_mapping.txt'\n",
    "                           )"
   ]
  },
  {
   "cell_type": "code",
   "execution_count": 83,
   "id": "dcd766f3",
   "metadata": {},
   "outputs": [],
   "source": [
    "res_21 = []\n",
    "\n",
    "for el in align_21:\n",
    "    if 'omitted' not in el:\n",
    "        try:\n",
    "            doc_id = el[0]\n",
    "            sent_en = el[1]\n",
    "            sent_ru = el[2]\n",
    "            en = unique_doc_ids_21[doc_id][sent_en]\n",
    "            ru = unique_doc_ids_ru_21[doc_id][sent_ru]\n",
    "            res_21.append({\"translation\": {\"ru\": ru, \"en\": en}})\n",
    "        except KeyError:\n",
    "            pass"
   ]
  },
  {
   "cell_type": "code",
   "execution_count": 85,
   "id": "2d71333d",
   "metadata": {},
   "outputs": [],
   "source": [
    "for el in res_21:\n",
    "    results.append(el)"
   ]
  },
  {
   "cell_type": "markdown",
   "id": "491572f0",
   "metadata": {},
   "source": [
    "Combining and saving to a single jsonlines file:"
   ]
  },
  {
   "cell_type": "code",
   "execution_count": 86,
   "id": "b166ca39",
   "metadata": {},
   "outputs": [],
   "source": [
    "with jsonlines.open('train.jsonl', mode='w') as writer:\n",
    "    for annotation in results:\n",
    "        writer.write(annotation)"
   ]
  },
  {
   "cell_type": "markdown",
   "id": "0905afdd",
   "metadata": {},
   "source": [
    "## Training"
   ]
  },
  {
   "cell_type": "code",
   "execution_count": null,
   "id": "fa07855b",
   "metadata": {},
   "outputs": [],
   "source": [
    "!git clone https://github.com/huggingface/transformers.git"
   ]
  },
  {
   "cell_type": "code",
   "execution_count": null,
   "id": "cd89a7c9",
   "metadata": {},
   "outputs": [],
   "source": [
    "%cd /content/transformers/\n",
    "!pip install . -q"
   ]
  },
  {
   "cell_type": "code",
   "execution_count": null,
   "id": "1501a93b",
   "metadata": {},
   "outputs": [],
   "source": [
    "!pip install -r /content/transformers/examples/pytorch/translation/requirements.txt -q"
   ]
  },
  {
   "cell_type": "code",
   "execution_count": null,
   "id": "6a90f820",
   "metadata": {},
   "outputs": [],
   "source": [
    "!python /content/transformers/examples/pytorch/translation/run_translation.py \\\n",
    "    --model_name_or_path 'Helsinki-NLP/opus-mt-ru-en' \\\n",
    "    --do_train \\\n",
    "    --do_eval \\\n",
    "    --save_strategy steps \\\n",
    "    --source_lang ru \\\n",
    "    --num_train_epochs 10 \\\n",
    "    --target_lang en \\\n",
    "    --max_source_length 512 \\\n",
    "    --max_target_length 512 \\\n",
    "    --val_max_target_length 512 \\\n",
    "    --train_file '/content/drive/MyDrive/data_contest/train.json' \\\n",
    "    --validation_file '/content/drive/MyDrive/data_contest/val.json' \\\n",
    "    --output_dir '/content/drive/MyDrive/contest_train' \\\n",
    "    --per_device_train_batch_size=2 \\\n",
    "    --per_device_eval_batch_size=4 \\\n",
    "    --overwrite_output_dir \\\n",
    "    --pad_to_max_length False \\\n",
    "    --save_steps 1000 \\\n",
    "    --evaluation_strategy steps \\\n",
    "    --logging_steps 5000 \\\n",
    "    --predict_with_generate"
   ]
  },
  {
   "cell_type": "markdown",
   "id": "affe251b",
   "metadata": {},
   "source": [
    "Obtain the model:\n",
    "https://huggingface.co/chatdemoiselle/MedMTEVAL_baseline"
   ]
  },
  {
   "cell_type": "code",
   "execution_count": null,
   "id": "2e27bdee",
   "metadata": {},
   "outputs": [],
   "source": []
  }
 ],
 "metadata": {
  "kernelspec": {
   "display_name": "Python 3 (ipykernel)",
   "language": "python",
   "name": "python3"
  },
  "language_info": {
   "codemirror_mode": {
    "name": "ipython",
    "version": 3
   },
   "file_extension": ".py",
   "mimetype": "text/x-python",
   "name": "python",
   "nbconvert_exporter": "python",
   "pygments_lexer": "ipython3",
   "version": "3.8.10"
  }
 },
 "nbformat": 4,
 "nbformat_minor": 5
}
